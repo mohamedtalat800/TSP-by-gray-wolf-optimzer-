{
  "nbformat": 4,
  "nbformat_minor": 0,
  "metadata": {
    "colab": {
      "provenance": [],
      "toc_visible": true
    },
    "kernelspec": {
      "name": "python3",
      "display_name": "Python 3"
    },
    "language_info": {
      "name": "python"
    }
  },
  "cells": [
    {
      "cell_type": "markdown",
      "source": [
        "#The Gray Wolf Optimizer implementation\n",
        "\n"
      ],
      "metadata": {
        "id": "wyx043Rx7Xwy"
      }
    },
    {
      "cell_type": "code",
      "execution_count": null,
      "metadata": {
        "id": "Xg93cGtTQwCI"
      },
      "outputs": [],
      "source": [
        "\n",
        "import numpy as np\n",
        "\n",
        "class GreyWolfOptimizerTSP:\n",
        "    def __init__(self, distance_matrix, max_iterations, population_size):\n",
        "        self.distance_matrix = distance_matrix\n",
        "        self.num_cities = distance_matrix.shape[0]\n",
        "        self.max_iterations = max_iterations\n",
        "        self.population_size = population_size\n",
        "\n",
        "    def optimize(self):\n",
        "        alpha_pos = np.zeros(self.num_cities, dtype=int)\n",
        "        beta_pos = np.zeros(self.num_cities, dtype=int)\n",
        "        delta_pos = np.zeros(self.num_cities, dtype=int)\n",
        "\n",
        "        alpha_score = float('inf')\n",
        "        beta_score = float('inf')\n",
        "        delta_score = float('inf')\n",
        "\n",
        "        # Stage 1: Initialization\n",
        "        population = np.zeros((self.population_size, self.num_cities), dtype=int)\n",
        "        for i in range(self.population_size):\n",
        "            population[i, :] = np.random.permutation(self.num_cities)\n",
        "\n",
        "        iteration = 0\n",
        "        while iteration < self.max_iterations:\n",
        "            # Stage 2: Update alpha, beta, and delta positions and scores\n",
        "            for i in range(self.population_size):\n",
        "                fitness = self.__get_fitness(population[i, :])\n",
        "\n",
        "                if fitness < alpha_score:\n",
        "                    delta_score = beta_score\n",
        "                    delta_pos = beta_pos.copy()\n",
        "                    beta_score = alpha_score\n",
        "                    beta_pos = alpha_pos.copy()\n",
        "                    alpha_score = fitness\n",
        "                    alpha_pos = population[i, :].copy()\n",
        "                elif fitness < beta_score:\n",
        "                    delta_score = beta_score\n",
        "                    delta_pos = beta_pos.copy()\n",
        "                    beta_score = fitness\n",
        "                    beta_pos = population[i, :].copy()\n",
        "                elif fitness < delta_score:\n",
        "                    delta_score = fitness\n",
        "                    delta_pos = population[i, :].copy()\n",
        "\n",
        "            a = 2 - 2 * iteration / self.max_iterations  # Parameter a decreases linearly from 2 to 0\n",
        "\n",
        "            # Stage 3: Update positions of each wolf\n",
        "            for i in range(self.population_size):\n",
        "                r1 = np.random.rand(self.num_cities)\n",
        "                r2 = np.random.rand(self.num_cities)\n",
        "                A1 = 2 * a * r1 - a\n",
        "                C1 = 2 * r2\n",
        "                D_alpha = abs(C1 * alpha_pos - population[i, :])\n",
        "                X1 = alpha_pos - A1 * D_alpha\n",
        "\n",
        "                r1 = np.random.rand(self.num_cities)\n",
        "                r2 = np.random.rand(self.num_cities)\n",
        "                A2 = 2 * a * r1 - a\n",
        "                C2 = 2 * r2\n",
        "                D_beta = abs(C2 * beta_pos - population[i, :])\n",
        "                X2 = beta_pos - A2 * D_beta\n",
        "\n",
        "                r1 = np.random.rand(self.num_cities)\n",
        "                r2 = np.random.rand(self.num_cities)\n",
        "                A3 = 2 * a * r1 - a\n",
        "                C3 = 2 * r2\n",
        "                D_delta = abs(C3 * delta_pos - population[i, :])\n",
        "                X3 = delta_pos - A3 * D_delta\n",
        "\n",
        "                new_pos = (X1 + X2 + X3) / 3\n",
        "                new_pos = self.__apply_tsp_constraints(new_pos)\n",
        "                population[i, :] = new_pos\n",
        "\n",
        "            iteration += 1\n",
        "\n",
        "        # Stage 4: Find the best solution\n",
        "        best_fitness = float('inf')\n",
        "        best_solution = None\n",
        "        for i in range(self.population_size):\n",
        "            fitness = self.__get_fitness(population[i, :])\n",
        "            if fitness < best_fitness:\n",
        "                best_fitness = fitness\n",
        "                best_solution = population[i, :]\n",
        "\n",
        "        return best_solution, best_fitness\n",
        "\n",
        "    def __get_fitness(self, tour):\n",
        "        # Calculate the total distance traveled in the tour\n",
        "        distance = 0\n",
        "        for i in range(self.num_cities - 1):\n",
        "            distance += self.distance_matrix[tour[i], tour[i+1]]\n",
        "        distance += self.distance_matrix[tour[-1], tour[0]]  # Return to starting point\n",
        "\n",
        "        return distance\n",
        "\n",
        "    def __apply_tsp_constraints(self, tour):\n",
        "        # Ensure each wolf's position represents a valid permutation of cities\n",
        "        unique_cities, counts = np.unique(tour, return_counts=True)\n",
        "        missing_cities = np.setdiff1d(np.arange(self.num_cities), unique_cities)\n",
        "        for i in range(len(missing_cities)):\n",
        "            idx = np.where(counts == np.min(counts))[0][0]\n",
        "            tour[idx] = missing_cities[i]\n",
        "            counts[idx] += 1\n",
        "\n",
        "        return tour\n"
      ]
    },
    {
      "cell_type": "markdown",
      "source": [
        "# Test the optimaizer by an example on TSP\n",
        " "
      ],
      "metadata": {
        "id": "MDbXVs1Y5VCm"
      }
    },
    {
      "cell_type": "code",
      "source": [
        "distance_matrix = np.array([\n",
        "    [0, 4, 3, 2, 6, 1, 8, 7, 9, 5],\n",
        "    [4, 0, 7, 9, 2, 3, 1, 8, 6, 5],\n",
        "    [3, 7, 0, 6, 5, 2, 9, 1, 4, 8],\n",
        "    [2, 9, 6, 0, 3, 8, 5, 7, 4, 1],\n",
        "    [6, 2, 5, 3, 0, 1, 4, 8, 9, 7],\n",
        "    [1, 3, 2, 8, 1, 0, 6, 4, 5, 9],\n",
        "    [8, 1, 9, 5, 4, 6, 0, 2, 7, 3],\n",
        "    [7, 8, 1, 7, 8, 4, 2, 0, 3, 6],\n",
        "    [9, 6, 4, 4, 9, 5, 7, 3, 0, 2],\n",
        "    [5, 5, 8, 1, 7, 9, 3, 6, 2, 0]\n",
        "])\n",
        "\n",
        "# Create an instance of the GreyWolfOptimizerTSP class\n",
        "gwo_tsp = GreyWolfOptimizerTSP(distance_matrix, max_iterations=100, population_size=20)\n",
        "\n",
        "# Run the optimization\n",
        "best_solution, best_fitness = gwo_tsp.optimize()\n",
        "\n",
        "# Print the best solution and its fitness\n",
        "print(\"Best Solution:\", best_solution)\n",
        "print(\"Best Fitness:\", best_fitness)"
      ],
      "metadata": {
        "colab": {
          "base_uri": "https://localhost:8080/"
        },
        "id": "qkIwgCkzLqzQ",
        "outputId": "5931db76-bde4-4f54-dc47-f32f1fd55c30"
      },
      "execution_count": null,
      "outputs": [
        {
          "output_type": "stream",
          "name": "stdout",
          "text": [
            "Best Solution: [0 1 2 3 4 5 6 7 8 9]\n",
            "Best Fitness: 39\n"
          ]
        }
      ]
    },
    {
      "cell_type": "markdown",
      "source": [],
      "metadata": {
        "id": "8z17GC-w5Nvh"
      }
    },
    {
      "cell_type": "code",
      "source": [],
      "metadata": {
        "id": "sTiEnjvFvB2q"
      },
      "execution_count": 25,
      "outputs": []
    }
  ]
}